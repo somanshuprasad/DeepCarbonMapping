{
 "cells": [
  {
   "cell_type": "code",
   "execution_count": 5,
   "id": "6065cb0f",
   "metadata": {},
   "outputs": [],
   "source": [
    "import numpy as np\n",
    "import MITgcmutils\n",
    "\n",
    "path_grid = \"ECCO2/LLC270/ECCO-Darwin_extension/grid\"\n",
    "path_3d = \"ECCO2/LLC270/ECCO-Darwin_extension/budget/average_DIC_3d\"\n",
    "path_2d = \"ECCO2/LLC270/ECCO-Darwin_extension/budget/average_2d\""
   ]
  },
  {
   "cell_type": "markdown",
   "id": "426b2eea",
   "metadata": {},
   "source": [
    "#### Variable list"
   ]
  },
  {
   "cell_type": "code",
   "execution_count": 8,
   "id": "f5b65474",
   "metadata": {},
   "outputs": [
    {
     "data": {
      "text/plain": [
       "[(0, 'TRAC01  '),\n",
       " (1, 'ADVxTr01'),\n",
       " (2, 'ADVyTr01'),\n",
       " (3, 'ADVrTr01'),\n",
       " (4, 'DFxETr01'),\n",
       " (5, 'DFyETr01'),\n",
       " (6, 'DFrETr01'),\n",
       " (7, 'DFrITr01'),\n",
       " (8, 'gDAR01  '),\n",
       " (9, 'cDIC    '),\n",
       " (10, 'cDIC_PIC'),\n",
       " (11, 'respDIC '),\n",
       " (12, 'rDIC_DOC'),\n",
       " (13, 'rDIC_POC'),\n",
       " (14, 'dDIC_PIC')]"
      ]
     },
     "metadata": {},
     "output_type": "display_data"
    },
    {
     "name": "stdout",
     "output_type": "stream",
     "text": [
      "\n"
     ]
    },
    {
     "data": {
      "text/plain": [
       "[(0, 'ETAN    '),\n",
       " (1, 'oceFWflx'),\n",
       " (2, 'SFLUX   '),\n",
       " (3, 'TFLUX   '),\n",
       " (4, 'oceSPflx'),\n",
       " (5, 'oceQsw  '),\n",
       " (6, 'fluxCO2 '),\n",
       " (7, 'gDICsurf'),\n",
       " (8, 'gDICEpr '),\n",
       " (9, 'gALKEpr '),\n",
       " (10, 'gNO3Epr '),\n",
       " (11, 'gNO2Epr '),\n",
       " (12, 'gNH4Epr '),\n",
       " (13, 'gO2Epr  '),\n",
       " (14, 'gPO4Epr '),\n",
       " (15, 'gFeTEpr '),\n",
       " (16, 'gSiO2Epr')]"
      ]
     },
     "metadata": {},
     "output_type": "display_data"
    }
   ],
   "source": [
    "fldList_3d = ['TRAC01  ','ADVxTr01','ADVyTr01','ADVrTr01','DFxETr01','DFyETr01','DFrETr01',\n",
    "              'DFrITr01','gDAR01  ','cDIC    ','cDIC_PIC','respDIC ','rDIC_DOC','rDIC_POC','dDIC_PIC']\n",
    "fldList_2d = ['ETAN    ','oceFWflx','SFLUX   ','TFLUX   ','oceSPflx','oceQsw  ','fluxCO2 ','gDICsurf',\n",
    "           'gDICEpr ','gALKEpr ','gNO3Epr ','gNO2Epr ','gNH4Epr ','gO2Epr  ','gPO4Epr ','gFeTEpr ','gSiO2Epr']\n",
    "\n",
    "mapping_3d = zip(range(len(fldList_3d)),fldList_3d)\n",
    "mapping_2d = zip(range(len(fldList_2d)),fldList_2d)\n",
    "\n",
    "display(list(mapping_3d))\n",
    "print()\n",
    "display(list(mapping_2d))"
   ]
  },
  {
   "cell_type": "markdown",
   "id": "25b42918",
   "metadata": {},
   "source": [
    "#### importing data"
   ]
  },
  {
   "cell_type": "code",
   "execution_count": 12,
   "id": "2f5c8ff0",
   "metadata": {},
   "outputs": [],
   "source": [
    "d_2 = MITgcmutils.mds.rdmds(f\"{path_2d}/average_2d.0000002232\",rec=[6,8])\n",
    "d_3 = MITgcmutils.mds.rdmds(f\"{path_3d}/average_DIC_3d.0000002232\",rec=[0, 1, 2, 3, 4, 5, 6, 7, 10, 11, 12, 13, 14])\n",
    "depth_c = MITgcmutils.mds.rdmds(f\"{path_grid}/RC\")\n",
    "depth_f = MITgcmutils.mds.rdmds(f\"{path_grid}/RF\")"
   ]
  },
  {
   "cell_type": "markdown",
   "id": "eb010c55",
   "metadata": {},
   "source": [
    "#### Flatten 3d data"
   ]
  },
  {
   "cell_type": "code",
   "execution_count": 76,
   "id": "c8b54e09",
   "metadata": {},
   "outputs": [],
   "source": [
    "# Calculating delta depth\n",
    "delta_depth_c = np.diff(depth_c, axis=0) * -1\n",
    "delta_depth_c = delta_depth_c[:,0,0]\n",
    "\n",
    "delta_depth_f = np.diff(depth_f, axis=0) * -1\n",
    "delta_depth_f = delta_depth_f[:,0,0]\n",
    "\n",
    "# getting index of top 100m depth\n",
    "idx_top_100m = np.where(depth_c>=-100)[0]"
   ]
  },
  {
   "cell_type": "code",
   "execution_count": 138,
   "id": "4362db59",
   "metadata": {},
   "outputs": [],
   "source": [
    "# Using numpy\n",
    "delta_depth_f_vec = delta_depth_f[idx_top_100m, np.newaxis, np.newaxis]\n",
    "flattened_d3 = np.sum(delta_depth_f_vec * d_3[:,idx_top_100m,:,:], axis=1)/100 # Compressing the depth into 2D for top 100m"
   ]
  },
  {
   "cell_type": "code",
   "execution_count": 146,
   "id": "fd3de303",
   "metadata": {},
   "outputs": [
    {
     "name": "stdout",
     "output_type": "stream",
     "text": [
      "(13, 3510, 270)\n"
     ]
    }
   ],
   "source": [
    "# Using loop\n",
    "flattened_d3_test = np.zeros([13, 3510, 270])\n",
    "\n",
    "for variable in range(d_3.shape[0]):\n",
    "    for idx,delta_depth in enumerate(delta_depth_f[idx_top_100m]):\n",
    "        flattened_d3_test[variable,:,:] += d_3[variable,idx,:,:] * delta_depth\n",
    "\n",
    "flattened_d3_test = flattened_d3_test/100\n",
    "print(flattened_d3_test.shape)"
   ]
  },
  {
   "cell_type": "markdown",
   "id": "ed8a538f",
   "metadata": {},
   "source": [
    "#### Combine variables"
   ]
  },
  {
   "cell_type": "code",
   "execution_count": 152,
   "id": "06f01bc7",
   "metadata": {},
   "outputs": [
    {
     "data": {
      "text/plain": [
       "(15, 3510, 270)"
      ]
     },
     "execution_count": 152,
     "metadata": {},
     "output_type": "execute_result"
    }
   ],
   "source": [
    "combined_data = np.concatenate((flattened_d3, d_2), axis=0)\n",
    "combined_data.shape"
   ]
  },
  {
   "cell_type": "markdown",
   "id": "a7193547-1f0c-41fd-b0be-c37cb5bb7500",
   "metadata": {},
   "source": [
    "#### plotting"
   ]
  },
  {
   "cell_type": "code",
   "execution_count": null,
   "id": "189172be-9bb2-48b7-a65d-17c2639f60de",
   "metadata": {},
   "outputs": [],
   "source": []
  },
  {
   "cell_type": "markdown",
   "id": "9c70610b-fc57-48bd-b350-09f3a6dd4562",
   "metadata": {},
   "source": [
    "#### Excel Test"
   ]
  },
  {
   "cell_type": "code",
   "execution_count": 58,
   "id": "be43f3aa-33d1-4403-8f57-0a9828c529c4",
   "metadata": {},
   "outputs": [],
   "source": [
    "delta_depth_c = d_3[1]\n",
    "variable_1_flattened = variable_1_data.reshape(variable_1_data.shape[0], -1)  # Shape: (50, 949770)\n",
    "\n",
    "# Combine delta depth values with the flattened data\n",
    "combined_data = np.column_stack((delta_depth_f, variable_1_flattened))\n",
    "\n",
    "# Convert to DataFrame for better Excel formatting\n",
    "column_names = ['Delta Depth'] + [f'Value_{i}' for i in range(variable_1_flattened.shape[1])]\n",
    "df_excel = pd.DataFrame(combined_data, columns=column_names).T\n",
    "\n",
    "# Save to Excel\n",
    "excel_path = \"variable_1_depth_comparison.xlsx\"\n",
    "df_excel.to_excel(excel_path, index=False)\n"
   ]
  }
 ],
 "metadata": {
  "kernelspec": {
   "display_name": "Python (env_carbon_mapping)",
   "language": "python",
   "name": "carbon_mapping_env"
  },
  "language_info": {
   "codemirror_mode": {
    "name": "ipython",
    "version": 3
   },
   "file_extension": ".py",
   "mimetype": "text/x-python",
   "name": "python",
   "nbconvert_exporter": "python",
   "pygments_lexer": "ipython3",
   "version": "3.12.7"
  }
 },
 "nbformat": 4,
 "nbformat_minor": 5
}
